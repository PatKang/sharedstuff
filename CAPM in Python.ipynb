{
 "cells": [
  {
   "cell_type": "code",
   "execution_count": 1,
   "id": "789e2390",
   "metadata": {},
   "outputs": [
    {
     "name": "stderr",
     "output_type": "stream",
     "text": [
      "C:\\Users\\patri\\anaconda3\\lib\\site-packages\\statsmodels\\compat\\pandas.py:61: FutureWarning: pandas.Int64Index is deprecated and will be removed from pandas in a future version. Use pandas.Index with the appropriate dtype instead.\n",
      "  from pandas import Int64Index as NumericIndex\n"
     ]
    }
   ],
   "source": [
    "# Impor the packages for CAPM output for Apple Stock\n",
    "import statsmodels.api as am\n",
    "import numpy as np\n",
    "import pandas as pd\n",
    "import sklearn\n",
    "from sklearn.linear_model import LinearRegression\n",
    "import matplotlib.pyplot as plt\n",
    "import datetime\n",
    "import time"
   ]
  },
  {
   "cell_type": "markdown",
   "id": "66af5b11",
   "metadata": {},
   "source": [
    "### Getting data\n",
    "\n",
    "For stocks it makesmuch more sense to take up to data data. We will use Pandas Datareader to grab data from Yahoo Finance."
   ]
  },
  {
   "cell_type": "code",
   "execution_count": 2,
   "id": "b273ab28",
   "metadata": {},
   "outputs": [
    {
     "name": "stdout",
     "output_type": "stream",
     "text": [
      "Collecting pandas-datareader\n",
      "  Downloading pandas_datareader-0.10.0-py3-none-any.whl (109 kB)\n",
      "Requirement already satisfied: requests>=2.19.0 in c:\\users\\patri\\anaconda3\\lib\\site-packages (from pandas-datareader) (2.27.1)\n",
      "Requirement already satisfied: pandas>=0.23 in c:\\users\\patri\\anaconda3\\lib\\site-packages (from pandas-datareader) (1.4.1)\n",
      "Requirement already satisfied: lxml in c:\\users\\patri\\anaconda3\\lib\\site-packages (from pandas-datareader) (4.8.0)\n",
      "Requirement already satisfied: pytz>=2020.1 in c:\\users\\patri\\anaconda3\\lib\\site-packages (from pandas>=0.23->pandas-datareader) (2021.3)\n",
      "Requirement already satisfied: numpy>=1.18.5 in c:\\users\\patri\\anaconda3\\lib\\site-packages (from pandas>=0.23->pandas-datareader) (1.21.5)\n",
      "Requirement already satisfied: python-dateutil>=2.8.1 in c:\\users\\patri\\anaconda3\\lib\\site-packages (from pandas>=0.23->pandas-datareader) (2.8.2)\n",
      "Requirement already satisfied: six>=1.5 in c:\\users\\patri\\anaconda3\\lib\\site-packages (from python-dateutil>=2.8.1->pandas>=0.23->pandas-datareader) (1.16.0)\n",
      "Requirement already satisfied: urllib3<1.27,>=1.21.1 in c:\\users\\patri\\anaconda3\\lib\\site-packages (from requests>=2.19.0->pandas-datareader) (1.26.8)\n",
      "Requirement already satisfied: certifi>=2017.4.17 in c:\\users\\patri\\anaconda3\\lib\\site-packages (from requests>=2.19.0->pandas-datareader) (2022.6.15)\n",
      "Requirement already satisfied: charset-normalizer~=2.0.0 in c:\\users\\patri\\anaconda3\\lib\\site-packages (from requests>=2.19.0->pandas-datareader) (2.0.4)\n",
      "Requirement already satisfied: idna<4,>=2.5 in c:\\users\\patri\\anaconda3\\lib\\site-packages (from requests>=2.19.0->pandas-datareader) (3.3)\n",
      "Installing collected packages: pandas-datareader\n",
      "Successfully installed pandas-datareader-0.10.0\n"
     ]
    }
   ],
   "source": [
    "# Install Pandas 'Datareader'\n",
    "!pip install pandas-datareader\n",
    "\n",
    "# Import data from the web from 'pandas_datareader'\n",
    "from pandas_datareader import data as web"
   ]
  },
  {
   "cell_type": "markdown",
   "id": "d817f5cf",
   "metadata": {},
   "source": [
    "### The datareader is a package that allows us to create a Pandas DF object using data sources from the internet. \n",
    "\n",
    "The Datareader requires two arguments\n",
    "* Ticker: name of the stock we want to get the data for\n",
    "* Website: name of the website we are pulling data from"
   ]
  },
  {
   "cell_type": "code",
   "execution_count": 6,
   "id": "c239b0f8",
   "metadata": {},
   "outputs": [],
   "source": [
    "# Set the start date\n",
    "start = datetime.datetime(2021, 1, 1)\n",
    "end = datetime.datetime(2022, 1 , 1)"
   ]
  },
  {
   "cell_type": "code",
   "execution_count": 7,
   "id": "81c02c32",
   "metadata": {},
   "outputs": [
    {
     "data": {
      "text/html": [
       "<div>\n",
       "<style scoped>\n",
       "    .dataframe tbody tr th:only-of-type {\n",
       "        vertical-align: middle;\n",
       "    }\n",
       "\n",
       "    .dataframe tbody tr th {\n",
       "        vertical-align: top;\n",
       "    }\n",
       "\n",
       "    .dataframe thead th {\n",
       "        text-align: right;\n",
       "    }\n",
       "</style>\n",
       "<table border=\"1\" class=\"dataframe\">\n",
       "  <thead>\n",
       "    <tr style=\"text-align: right;\">\n",
       "      <th></th>\n",
       "      <th>High</th>\n",
       "      <th>Low</th>\n",
       "      <th>Open</th>\n",
       "      <th>Close</th>\n",
       "      <th>Volume</th>\n",
       "      <th>Adj Close</th>\n",
       "    </tr>\n",
       "    <tr>\n",
       "      <th>Date</th>\n",
       "      <th></th>\n",
       "      <th></th>\n",
       "      <th></th>\n",
       "      <th></th>\n",
       "      <th></th>\n",
       "      <th></th>\n",
       "    </tr>\n",
       "  </thead>\n",
       "  <tbody>\n",
       "    <tr>\n",
       "      <th>2021-01-04</th>\n",
       "      <td>375.450012</td>\n",
       "      <td>364.820007</td>\n",
       "      <td>375.309998</td>\n",
       "      <td>368.790009</td>\n",
       "      <td>110210800.0</td>\n",
       "      <td>361.251160</td>\n",
       "    </tr>\n",
       "    <tr>\n",
       "      <th>2021-01-05</th>\n",
       "      <td>372.500000</td>\n",
       "      <td>368.049988</td>\n",
       "      <td>368.100006</td>\n",
       "      <td>371.329987</td>\n",
       "      <td>66426200.0</td>\n",
       "      <td>363.739227</td>\n",
       "    </tr>\n",
       "    <tr>\n",
       "      <th>2021-01-06</th>\n",
       "      <td>376.980011</td>\n",
       "      <td>369.119995</td>\n",
       "      <td>369.709991</td>\n",
       "      <td>373.549988</td>\n",
       "      <td>107997700.0</td>\n",
       "      <td>365.913818</td>\n",
       "    </tr>\n",
       "    <tr>\n",
       "      <th>2021-01-07</th>\n",
       "      <td>379.899994</td>\n",
       "      <td>375.910004</td>\n",
       "      <td>376.100006</td>\n",
       "      <td>379.100006</td>\n",
       "      <td>68766800.0</td>\n",
       "      <td>371.350372</td>\n",
       "    </tr>\n",
       "    <tr>\n",
       "      <th>2021-01-08</th>\n",
       "      <td>381.489990</td>\n",
       "      <td>377.100006</td>\n",
       "      <td>380.589996</td>\n",
       "      <td>381.260010</td>\n",
       "      <td>71677200.0</td>\n",
       "      <td>373.466248</td>\n",
       "    </tr>\n",
       "  </tbody>\n",
       "</table>\n",
       "</div>"
      ],
      "text/plain": [
       "                  High         Low        Open       Close       Volume  \\\n",
       "Date                                                                      \n",
       "2021-01-04  375.450012  364.820007  375.309998  368.790009  110210800.0   \n",
       "2021-01-05  372.500000  368.049988  368.100006  371.329987   66426200.0   \n",
       "2021-01-06  376.980011  369.119995  369.709991  373.549988  107997700.0   \n",
       "2021-01-07  379.899994  375.910004  376.100006  379.100006   68766800.0   \n",
       "2021-01-08  381.489990  377.100006  380.589996  381.260010   71677200.0   \n",
       "\n",
       "             Adj Close  \n",
       "Date                    \n",
       "2021-01-04  361.251160  \n",
       "2021-01-05  363.739227  \n",
       "2021-01-06  365.913818  \n",
       "2021-01-07  371.350372  \n",
       "2021-01-08  373.466248  "
      ]
     },
     "execution_count": 7,
     "metadata": {},
     "output_type": "execute_result"
    }
   ],
   "source": [
    "# We also have to S&P data, use the pandas-datareader to get SPY in order to track the S&P 500 index\n",
    "\n",
    "# User the Pandas Datareader to pull data from the web\n",
    "# Specify the 'ticket' and website as well as start and end dates\n",
    "df_spy = web.DataReader('SPY', 'yahoo', start, end)\n",
    "\n",
    "df_spy.head()"
   ]
  },
  {
   "cell_type": "markdown",
   "id": "313f035e",
   "metadata": {},
   "source": [
    "### Now that we have the market data, let's focus on APPL\n",
    "\n",
    "Repeat the previous processs and pull data from yahoo finance"
   ]
  },
  {
   "cell_type": "code",
   "execution_count": 8,
   "id": "cb3e827f",
   "metadata": {},
   "outputs": [
    {
     "data": {
      "text/html": [
       "<div>\n",
       "<style scoped>\n",
       "    .dataframe tbody tr th:only-of-type {\n",
       "        vertical-align: middle;\n",
       "    }\n",
       "\n",
       "    .dataframe tbody tr th {\n",
       "        vertical-align: top;\n",
       "    }\n",
       "\n",
       "    .dataframe thead th {\n",
       "        text-align: right;\n",
       "    }\n",
       "</style>\n",
       "<table border=\"1\" class=\"dataframe\">\n",
       "  <thead>\n",
       "    <tr style=\"text-align: right;\">\n",
       "      <th></th>\n",
       "      <th>High</th>\n",
       "      <th>Low</th>\n",
       "      <th>Open</th>\n",
       "      <th>Close</th>\n",
       "      <th>Volume</th>\n",
       "      <th>Adj Close</th>\n",
       "    </tr>\n",
       "    <tr>\n",
       "      <th>Date</th>\n",
       "      <th></th>\n",
       "      <th></th>\n",
       "      <th></th>\n",
       "      <th></th>\n",
       "      <th></th>\n",
       "      <th></th>\n",
       "    </tr>\n",
       "  </thead>\n",
       "  <tbody>\n",
       "    <tr>\n",
       "      <th>2021-01-04</th>\n",
       "      <td>133.610001</td>\n",
       "      <td>126.760002</td>\n",
       "      <td>133.520004</td>\n",
       "      <td>129.410004</td>\n",
       "      <td>143301900.0</td>\n",
       "      <td>128.264999</td>\n",
       "    </tr>\n",
       "    <tr>\n",
       "      <th>2021-01-05</th>\n",
       "      <td>131.740005</td>\n",
       "      <td>128.429993</td>\n",
       "      <td>128.889999</td>\n",
       "      <td>131.009995</td>\n",
       "      <td>97664900.0</td>\n",
       "      <td>129.850830</td>\n",
       "    </tr>\n",
       "    <tr>\n",
       "      <th>2021-01-06</th>\n",
       "      <td>131.050003</td>\n",
       "      <td>126.379997</td>\n",
       "      <td>127.720001</td>\n",
       "      <td>126.599998</td>\n",
       "      <td>155088000.0</td>\n",
       "      <td>125.479858</td>\n",
       "    </tr>\n",
       "    <tr>\n",
       "      <th>2021-01-07</th>\n",
       "      <td>131.630005</td>\n",
       "      <td>127.860001</td>\n",
       "      <td>128.360001</td>\n",
       "      <td>130.919998</td>\n",
       "      <td>109578200.0</td>\n",
       "      <td>129.761627</td>\n",
       "    </tr>\n",
       "    <tr>\n",
       "      <th>2021-01-08</th>\n",
       "      <td>132.630005</td>\n",
       "      <td>130.229996</td>\n",
       "      <td>132.429993</td>\n",
       "      <td>132.050003</td>\n",
       "      <td>105158200.0</td>\n",
       "      <td>130.881622</td>\n",
       "    </tr>\n",
       "  </tbody>\n",
       "</table>\n",
       "</div>"
      ],
      "text/plain": [
       "                  High         Low        Open       Close       Volume  \\\n",
       "Date                                                                      \n",
       "2021-01-04  133.610001  126.760002  133.520004  129.410004  143301900.0   \n",
       "2021-01-05  131.740005  128.429993  128.889999  131.009995   97664900.0   \n",
       "2021-01-06  131.050003  126.379997  127.720001  126.599998  155088000.0   \n",
       "2021-01-07  131.630005  127.860001  128.360001  130.919998  109578200.0   \n",
       "2021-01-08  132.630005  130.229996  132.429993  132.050003  105158200.0   \n",
       "\n",
       "             Adj Close  \n",
       "Date                    \n",
       "2021-01-04  128.264999  \n",
       "2021-01-05  129.850830  \n",
       "2021-01-06  125.479858  \n",
       "2021-01-07  129.761627  \n",
       "2021-01-08  130.881622  "
      ]
     },
     "execution_count": 8,
     "metadata": {},
     "output_type": "execute_result"
    }
   ],
   "source": [
    "# Pull Apples stock index \n",
    "df_apple = web.DataReader('AAPL', 'yahoo', start, end)\n",
    "\n",
    "# Print the results\n",
    "df_apple.head()"
   ]
  },
  {
   "cell_type": "markdown",
   "id": "dbff085f",
   "metadata": {},
   "source": [
    "### Checking relationships and cumulative returns\n",
    "\n",
    "CAPM assumes that there is a relationship between the stock's performance and the market. We can use the plot() function to check the closing stock prices for APPLE and SPY data on a line chart"
   ]
  },
  {
   "cell_type": "code",
   "execution_count": 10,
   "id": "aaa25146",
   "metadata": {},
   "outputs": [
    {
     "data": {
      "text/plain": [
       "<matplotlib.legend.Legend at 0x20570d20850>"
      ]
     },
     "execution_count": 10,
     "metadata": {},
     "output_type": "execute_result"
    },
    {
     "data": {
      "image/png": "[encoded data removed]",
      "text/plain": [
       "<Figure size 720x576 with 1 Axes>"
      ]
     },
     "metadata": {
      "needs_background": "light"
     },
     "output_type": "display_data"
    }
   ],
   "source": [
    "# Closing stock price line plot for APPL\n",
    "df_apple['Close'].plot(label = 'Apple', figsize = (10, 8))\n",
    "\n",
    "# Closing stock price line plot for 'SPY'\n",
    "df_spy['Close'].plot(label = 'S&P 500')\n",
    "plt.legend()"
   ]
  },
  {
   "cell_type": "markdown",
   "id": "fac5628f",
   "metadata": {},
   "source": [
    "### Interpretation\n",
    "\n",
    "Since the shapes are somewhat similar (trajectory and shape) we can perform statistical tests on them\n",
    "\n",
    "Let's find the cumulative returns over a period of time of each and plot them on a graph"
   ]
  },
  {
   "cell_type": "code",
   "execution_count": 12,
   "id": "110af84d",
   "metadata": {},
   "outputs": [
    {
     "data": {
      "text/plain": [
       "<matplotlib.legend.Legend at 0x20570ecfeb0>"
      ]
     },
     "execution_count": 12,
     "metadata": {},
     "output_type": "execute_result"
    },
    {
     "data": {
      "image/png": "[encoded data removed]",
      "text/plain": [
       "<Figure size 720x576 with 1 Axes>"
      ]
     },
     "metadata": {
      "needs_background": "light"
     },
     "output_type": "display_data"
    }
   ],
   "source": [
    "# Calculate the cumulative sum of closing prices for APPL\n",
    "# Store sum in a new column called 'CUM'\n",
    "df_apple['CUM'] = df_apple['Close']/df_apple['Close'].iloc[0]\n",
    "\n",
    "# Calculate the cumulative sum of closing prices fpr SPY stocks\n",
    "# Store sum in a new column called 'CUM'\n",
    "df_spy['CUM'] = df_spy['Close']/df_spy['Close'].iloc[0]\n",
    "\n",
    "# Plot the line graph for the calculated column 'CUM' for apple and spy\n",
    "df_apple['CUM'].plot(label = 'APPL', figsize = (10, 8))\n",
    "df_spy['CUM'].plot(label = 'S&P 500')\n",
    "plt.legend()"
   ]
  },
  {
   "cell_type": "markdown",
   "id": "a0a9c102",
   "metadata": {},
   "source": [
    "### There seems to be a correlation, lets visualize it for the daily returns to understand better how the two are related\n",
    "\n",
    "* Calculate daily returns for both appl and spy using pct_change()\n",
    "* Calculate percentage change betwen current and prior element using pct_change()\n",
    "* Plot the daily returns on a scatter plot"
   ]
  },
  {
   "cell_type": "code",
   "execution_count": 13,
   "id": "5ea9c73e",
   "metadata": {},
   "outputs": [
    {
     "data": {
      "text/plain": [
       "<matplotlib.collections.PathCollection at 0x20571771040>"
      ]
     },
     "execution_count": 13,
     "metadata": {},
     "output_type": "execute_result"
    },
    {
     "data": {
      "image/png": "[encoded data removed]",
      "text/plain": [
       "<Figure size 432x288 with 1 Axes>"
      ]
     },
     "metadata": {
      "needs_background": "light"
     },
     "output_type": "display_data"
    }
   ],
   "source": [
    "# Calculate daily returs  and percentage change using 'pandas pct_change()'\n",
    "df_apple['daily_ret'] = df_apple['Close'].pct_change(1)\n",
    "df_spy['daily_ret'] = df_spy['Close'].pct_change(1)\n",
    "\n",
    "# Plot the daily returns on a scatterplot:\n",
    "plt.scatter(df_apple['daily_ret'], df_spy['daily_ret'])"
   ]
  },
  {
   "cell_type": "markdown",
   "id": "02183837",
   "metadata": {},
   "source": [
    "**There seems to be somewhat of a relationship between the two variables**\n",
    "Now we can draw the trend line. However we need to join the datasets first."
   ]
  },
  {
   "cell_type": "code",
   "execution_count": 14,
   "id": "c91a0e87",
   "metadata": {},
   "outputs": [
    {
     "data": {
      "text/html": [
       "<div>\n",
       "<style scoped>\n",
       "    .dataframe tbody tr th:only-of-type {\n",
       "        vertical-align: middle;\n",
       "    }\n",
       "\n",
       "    .dataframe tbody tr th {\n",
       "        vertical-align: top;\n",
       "    }\n",
       "\n",
       "    .dataframe thead th {\n",
       "        text-align: right;\n",
       "    }\n",
       "</style>\n",
       "<table border=\"1\" class=\"dataframe\">\n",
       "  <thead>\n",
       "    <tr style=\"text-align: right;\">\n",
       "      <th></th>\n",
       "      <th>Apple</th>\n",
       "      <th>SPY</th>\n",
       "    </tr>\n",
       "    <tr>\n",
       "      <th>Date</th>\n",
       "      <th></th>\n",
       "      <th></th>\n",
       "    </tr>\n",
       "  </thead>\n",
       "  <tbody>\n",
       "    <tr>\n",
       "      <th>2021-01-04</th>\n",
       "      <td>129.410004</td>\n",
       "      <td>368.790009</td>\n",
       "    </tr>\n",
       "    <tr>\n",
       "      <th>2021-01-05</th>\n",
       "      <td>131.009995</td>\n",
       "      <td>371.329987</td>\n",
       "    </tr>\n",
       "    <tr>\n",
       "      <th>2021-01-06</th>\n",
       "      <td>126.599998</td>\n",
       "      <td>373.549988</td>\n",
       "    </tr>\n",
       "    <tr>\n",
       "      <th>2021-01-07</th>\n",
       "      <td>130.919998</td>\n",
       "      <td>379.100006</td>\n",
       "    </tr>\n",
       "    <tr>\n",
       "      <th>2021-01-08</th>\n",
       "      <td>132.050003</td>\n",
       "      <td>381.260010</td>\n",
       "    </tr>\n",
       "  </tbody>\n",
       "</table>\n",
       "</div>"
      ],
      "text/plain": [
       "                 Apple         SPY\n",
       "Date                              \n",
       "2021-01-04  129.410004  368.790009\n",
       "2021-01-05  131.009995  371.329987\n",
       "2021-01-06  126.599998  373.549988\n",
       "2021-01-07  130.919998  379.100006\n",
       "2021-01-08  132.050003  381.260010"
      ]
     },
     "execution_count": 14,
     "metadata": {},
     "output_type": "execute_result"
    }
   ],
   "source": [
    "# Join the datasets using concat function\n",
    "daily_prices = pd.concat([df_apple['Close'], df_spy['Close']], axis = 1)\n",
    "\n",
    "# Set column labels.\n",
    "daily_prices.columns = ['Apple', 'SPY']\n",
    "\n",
    "# Print the first five rows of the new table\n",
    "daily_prices.head()"
   ]
  },
  {
   "cell_type": "code",
   "execution_count": 15,
   "id": "02f1b55b",
   "metadata": {},
   "outputs": [
    {
     "data": {
      "text/html": [
       "<div>\n",
       "<style scoped>\n",
       "    .dataframe tbody tr th:only-of-type {\n",
       "        vertical-align: middle;\n",
       "    }\n",
       "\n",
       "    .dataframe tbody tr th {\n",
       "        vertical-align: top;\n",
       "    }\n",
       "\n",
       "    .dataframe thead th {\n",
       "        text-align: right;\n",
       "    }\n",
       "</style>\n",
       "<table border=\"1\" class=\"dataframe\">\n",
       "  <thead>\n",
       "    <tr style=\"text-align: right;\">\n",
       "      <th></th>\n",
       "      <th>Apple</th>\n",
       "      <th>SPY</th>\n",
       "    </tr>\n",
       "    <tr>\n",
       "      <th>Date</th>\n",
       "      <th></th>\n",
       "      <th></th>\n",
       "    </tr>\n",
       "  </thead>\n",
       "  <tbody>\n",
       "    <tr>\n",
       "      <th>2021-01-04</th>\n",
       "      <td>NaN</td>\n",
       "      <td>NaN</td>\n",
       "    </tr>\n",
       "    <tr>\n",
       "      <th>2021-01-05</th>\n",
       "      <td>0.012364</td>\n",
       "      <td>0.006887</td>\n",
       "    </tr>\n",
       "    <tr>\n",
       "      <th>2021-01-06</th>\n",
       "      <td>-0.033662</td>\n",
       "      <td>0.005979</td>\n",
       "    </tr>\n",
       "    <tr>\n",
       "      <th>2021-01-07</th>\n",
       "      <td>0.034123</td>\n",
       "      <td>0.014857</td>\n",
       "    </tr>\n",
       "    <tr>\n",
       "      <th>2021-01-08</th>\n",
       "      <td>0.008631</td>\n",
       "      <td>0.005698</td>\n",
       "    </tr>\n",
       "  </tbody>\n",
       "</table>\n",
       "</div>"
      ],
      "text/plain": [
       "               Apple       SPY\n",
       "Date                          \n",
       "2021-01-04       NaN       NaN\n",
       "2021-01-05  0.012364  0.006887\n",
       "2021-01-06 -0.033662  0.005979\n",
       "2021-01-07  0.034123  0.014857\n",
       "2021-01-08  0.008631  0.005698"
      ]
     },
     "execution_count": 15,
     "metadata": {},
     "output_type": "execute_result"
    }
   ],
   "source": [
    "# After joining the dataset we can now check the percentage changes for both stocks \n",
    "\n",
    "# Get the daily returns\n",
    "daily_returns = daily_prices.pct_change(1)\n",
    "\n",
    "# Print the percentage change\n",
    "daily_returns.head()"
   ]
  },
  {
   "cell_type": "code",
   "execution_count": 16,
   "id": "ef77ab42",
   "metadata": {},
   "outputs": [
    {
     "data": {
      "text/html": [
       "<div>\n",
       "<style scoped>\n",
       "    .dataframe tbody tr th:only-of-type {\n",
       "        vertical-align: middle;\n",
       "    }\n",
       "\n",
       "    .dataframe tbody tr th {\n",
       "        vertical-align: top;\n",
       "    }\n",
       "\n",
       "    .dataframe thead th {\n",
       "        text-align: right;\n",
       "    }\n",
       "</style>\n",
       "<table border=\"1\" class=\"dataframe\">\n",
       "  <thead>\n",
       "    <tr style=\"text-align: right;\">\n",
       "      <th></th>\n",
       "      <th>Apple</th>\n",
       "      <th>SPY</th>\n",
       "    </tr>\n",
       "    <tr>\n",
       "      <th>Date</th>\n",
       "      <th></th>\n",
       "      <th></th>\n",
       "    </tr>\n",
       "  </thead>\n",
       "  <tbody>\n",
       "    <tr>\n",
       "      <th>2021-01-05</th>\n",
       "      <td>0.012364</td>\n",
       "      <td>0.006887</td>\n",
       "    </tr>\n",
       "    <tr>\n",
       "      <th>2021-01-06</th>\n",
       "      <td>-0.033662</td>\n",
       "      <td>0.005979</td>\n",
       "    </tr>\n",
       "    <tr>\n",
       "      <th>2021-01-07</th>\n",
       "      <td>0.034123</td>\n",
       "      <td>0.014857</td>\n",
       "    </tr>\n",
       "    <tr>\n",
       "      <th>2021-01-08</th>\n",
       "      <td>0.008631</td>\n",
       "      <td>0.005698</td>\n",
       "    </tr>\n",
       "    <tr>\n",
       "      <th>2021-01-11</th>\n",
       "      <td>-0.023249</td>\n",
       "      <td>-0.006741</td>\n",
       "    </tr>\n",
       "  </tbody>\n",
       "</table>\n",
       "</div>"
      ],
      "text/plain": [
       "               Apple       SPY\n",
       "Date                          \n",
       "2021-01-05  0.012364  0.006887\n",
       "2021-01-06 -0.033662  0.005979\n",
       "2021-01-07  0.034123  0.014857\n",
       "2021-01-08  0.008631  0.005698\n",
       "2021-01-11 -0.023249 -0.006741"
      ]
     },
     "execution_count": 16,
     "metadata": {},
     "output_type": "execute_result"
    }
   ],
   "source": [
    "# Since the first entry has no value because we don't have the previous day to compare the changes, we can drop it\n",
    "\n",
    "# Remove the first row\n",
    "clean_daily_returns = daily_returns.dropna(axis = 0)\n",
    "\n",
    "# Print the new DataFrame\n",
    "clean_daily_returns.head()"
   ]
  },
  {
   "cell_type": "markdown",
   "id": "06476951",
   "metadata": {},
   "source": [
    "### Apply sklearn to run a regression model and call the elements"
   ]
  },
  {
   "cell_type": "code",
   "execution_count": 17,
   "id": "1bb5a6c3",
   "metadata": {},
   "outputs": [],
   "source": [
    "# Reshape the SPY data to 2D\n",
    "x = clean_daily_returns['SPY'].values.reshape(-1, 1)\n",
    "\n",
    "# Reshape the Apple data to 2D\n",
    "y = clean_daily_returns['Apple'].values.reshape(-1, 1)"
   ]
  },
  {
   "cell_type": "code",
   "execution_count": 18,
   "id": "6c35f7f8",
   "metadata": {},
   "outputs": [
    {
     "data": {
      "text/plain": [
       "LinearRegression()"
      ]
     },
     "execution_count": 18,
     "metadata": {},
     "output_type": "execute_result"
    }
   ],
   "source": [
    "# New we can run a regression test with sklearn using LinearRegression() and .fit()\n",
    "\n",
    "# Run the linreg test\n",
    "lr = LinearRegression()\n",
    "\n",
    "# Fit the model\n",
    "lr.fit(x, y)"
   ]
  },
  {
   "cell_type": "code",
   "execution_count": 19,
   "id": "d829cd6a",
   "metadata": {},
   "outputs": [
    {
     "name": "stdout",
     "output_type": "stream",
     "text": [
      "[[1.30313819]]\n",
      "[2.68456838e-05]\n"
     ]
    }
   ],
   "source": [
    "# Check the coefficient or slope of the regression line\n",
    "print(lr.coef_)\n",
    "\n",
    "# Check the intercept c\n",
    "print(lr.intercept_)"
   ]
  },
  {
   "cell_type": "markdown",
   "id": "47d3bb9a",
   "metadata": {},
   "source": [
    "Now that we have the equation let's look at the numbers\n",
    "\n",
    "* Current yield of the 10 year treasury bond is 1.72%\n",
    "* Average access annual return of the US stocks is 10%\n",
    "\n",
    "So the equation would be\n",
    "\n",
    "Expected Return of Apple = 1.72 + 1.3(10.5 - 1.72)"
   ]
  },
  {
   "cell_type": "markdown",
   "id": "5c523d75",
   "metadata": {},
   "source": [
    "### Drawing the best fitting line\n",
    "\n",
    "Let's now add the trend line that fits the daily returns data points we will use the linear eequation to plot the regression line."
   ]
  },
  {
   "cell_type": "code",
   "execution_count": 20,
   "id": "84ba6722",
   "metadata": {},
   "outputs": [
    {
     "data": {
      "text/plain": [
       "[<matplotlib.lines.Line2D at 0x20571a39be0>]"
      ]
     },
     "execution_count": 20,
     "metadata": {},
     "output_type": "execute_result"
    },
    {
     "data": {
      "image/png": "[encoded data removed]",
      "text/plain": [
       "<Figure size 432x288 with 1 Axes>"
      ]
     },
     "metadata": {
      "needs_background": "light"
     },
     "output_type": "display_data"
    }
   ],
   "source": [
    "# Set the x coefficient and constant (intercept)\n",
    "y_pred = lr.coef_ * x + lr.intercept_\n",
    "\n",
    "# Draw the scatterplot using Matplotlib\n",
    "plt.scatter(x,y)\n",
    "\n",
    "# Plot x and predicted y as a line and set the color to red.\n",
    "plt.plot(x, y_pred, color = 'red')"
   ]
  },
  {
   "cell_type": "code",
   "execution_count": null,
   "id": "f990c2e4",
   "metadata": {},
   "outputs": [],
   "source": []
  }
 ],
 "metadata": {
  "kernelspec": {
   "display_name": "Python 3 (ipykernel)",
   "language": "python",
   "name": "python3"
  },
  "language_info": {
   "codemirror_mode": {
    "name": "ipython",
    "version": 3
   },
   "file_extension": ".py",
   "mimetype": "text/x-python",
   "name": "python",
   "nbconvert_exporter": "python",
   "pygments_lexer": "ipython3",
   "version": "3.8.3"
  }
 },
 "nbformat": 4,
 "nbformat_minor": 5
}
